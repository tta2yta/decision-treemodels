{
  "nbformat": 4,
  "nbformat_minor": 0,
  "metadata": {
    "colab": {
      "name": "Untitled1.ipynb",
      "provenance": [],
      "toc_visible": true
    },
    "kernelspec": {
      "name": "python3",
      "display_name": "Python 3"
    },
    "accelerator": "GPU"
  },
  "cells": [
    {
      "cell_type": "markdown",
      "metadata": {
        "id": "dZ0e9AAV7xG-",
        "colab_type": "text"
      },
      "source": [
        "# New Section"
      ]
    },
    {
      "cell_type": "code",
      "metadata": {
        "id": "XdNT1dRQ78C6",
        "colab_type": "code",
        "colab": {
          "base_uri": "https://localhost:8080/",
          "height": 121
        },
        "outputId": "4ed51ce1-2e0e-43dd-a192-65fd16719de6"
      },
      "source": [
        "from google.colab import drive\n",
        "drive.mount('/content/drive')"
      ],
      "execution_count": 4,
      "outputs": [
        {
          "output_type": "stream",
          "text": [
            "Go to this URL in a browser: https://accounts.google.com/o/oauth2/auth?client_id=947318989803-6bn6qk8qdgf4n4g3pfee6491hc0brc4i.apps.googleusercontent.com&redirect_uri=urn%3aietf%3awg%3aoauth%3a2.0%3aoob&response_type=code&scope=email%20https%3a%2f%2fwww.googleapis.com%2fauth%2fdocs.test%20https%3a%2f%2fwww.googleapis.com%2fauth%2fdrive%20https%3a%2f%2fwww.googleapis.com%2fauth%2fdrive.photos.readonly%20https%3a%2f%2fwww.googleapis.com%2fauth%2fpeopleapi.readonly\n",
            "\n",
            "Enter your authorization code:\n",
            "··········\n",
            "Mounted at /content/drive\n"
          ],
          "name": "stdout"
        }
      ]
    },
    {
      "cell_type": "code",
      "metadata": {
        "id": "RB7v57xb8Vhd",
        "colab_type": "code",
        "colab": {}
      },
      "source": [
        "import pandas as pd\n",
        "german = pd.read_csv(r'/content/drive/My Drive/german.csv', sep = ';')"
      ],
      "execution_count": 5,
      "outputs": []
    },
    {
      "cell_type": "code",
      "metadata": {
        "id": "vd6hSIaJ8_x_",
        "colab_type": "code",
        "colab": {
          "base_uri": "https://localhost:8080/",
          "height": 429
        },
        "outputId": "ebabe760-db1b-4c57-a0fe-a9d7a5b780cf"
      },
      "source": [
        "german.head(2)"
      ],
      "execution_count": null,
      "outputs": [
        {
          "output_type": "execute_result",
          "data": {
            "text/html": [
              "<div>\n",
              "<style scoped>\n",
              "    .dataframe tbody tr th:only-of-type {\n",
              "        vertical-align: middle;\n",
              "    }\n",
              "\n",
              "    .dataframe tbody tr th {\n",
              "        vertical-align: top;\n",
              "    }\n",
              "\n",
              "    .dataframe thead th {\n",
              "        text-align: right;\n",
              "    }\n",
              "</style>\n",
              "<table border=\"1\" class=\"dataframe\">\n",
              "  <thead>\n",
              "    <tr style=\"text-align: right;\">\n",
              "      <th></th>\n",
              "      <th>Status of existing checking account</th>\n",
              "      <th>Duration in month</th>\n",
              "      <th>Credit history</th>\n",
              "      <th>Purpose</th>\n",
              "      <th>Credit amount</th>\n",
              "      <th>Savings account/bonds</th>\n",
              "      <th>Present employment since</th>\n",
              "      <th>Installment rate in percentage of disposable income</th>\n",
              "      <th>Personal status and sex</th>\n",
              "      <th>Other debtors / guarantors</th>\n",
              "      <th>Present residence since</th>\n",
              "      <th>Property</th>\n",
              "      <th>Age in years</th>\n",
              "      <th>Other installment plans</th>\n",
              "      <th>Housing</th>\n",
              "      <th>Number of existing credits at this bank</th>\n",
              "      <th>Job</th>\n",
              "      <th>Number of people being liable to provide maintenance for</th>\n",
              "      <th>Telephone</th>\n",
              "      <th>foreign worker</th>\n",
              "      <th>Bad credit</th>\n",
              "    </tr>\n",
              "  </thead>\n",
              "  <tbody>\n",
              "    <tr>\n",
              "      <th>0</th>\n",
              "      <td>1 : ... &lt; 0 DM</td>\n",
              "      <td>6</td>\n",
              "      <td>4 : critical account/ other credits existing (...</td>\n",
              "      <td>3 : radio/television</td>\n",
              "      <td>1169</td>\n",
              "      <td>5 : unknown/ no savings account</td>\n",
              "      <td>5 : .. &gt;= 7 years</td>\n",
              "      <td>4</td>\n",
              "      <td>3 : male : single</td>\n",
              "      <td>1 : none</td>\n",
              "      <td>4</td>\n",
              "      <td>1 : real estate</td>\n",
              "      <td>67</td>\n",
              "      <td>3 : none</td>\n",
              "      <td>2 : own</td>\n",
              "      <td>2</td>\n",
              "      <td>3 : skilled employee / official</td>\n",
              "      <td>1</td>\n",
              "      <td>2 : yes, registered under the customers name</td>\n",
              "      <td>1 : yes</td>\n",
              "      <td>0</td>\n",
              "    </tr>\n",
              "    <tr>\n",
              "      <th>1</th>\n",
              "      <td>2 : 0 &lt;= ... &lt; 200 DM</td>\n",
              "      <td>48</td>\n",
              "      <td>2 : existing credits paid back duly till now</td>\n",
              "      <td>3 : radio/television</td>\n",
              "      <td>5951</td>\n",
              "      <td>1 : ... &lt; 100 DM</td>\n",
              "      <td>3 : 1 &lt;= ... &lt; 4 years</td>\n",
              "      <td>2</td>\n",
              "      <td>2 : female : divorced/separated/married</td>\n",
              "      <td>1 : none</td>\n",
              "      <td>2</td>\n",
              "      <td>1 : real estate</td>\n",
              "      <td>22</td>\n",
              "      <td>3 : none</td>\n",
              "      <td>2 : own</td>\n",
              "      <td>1</td>\n",
              "      <td>3 : skilled employee / official</td>\n",
              "      <td>1</td>\n",
              "      <td>1 : none</td>\n",
              "      <td>1 : yes</td>\n",
              "      <td>1</td>\n",
              "    </tr>\n",
              "  </tbody>\n",
              "</table>\n",
              "</div>"
            ],
            "text/plain": [
              "  Status of existing checking account  ...  Bad credit\n",
              "0                      1 : ... < 0 DM  ...           0\n",
              "1               2 : 0 <= ... < 200 DM  ...           1\n",
              "\n",
              "[2 rows x 21 columns]"
            ]
          },
          "metadata": {
            "tags": []
          },
          "execution_count": 4
        }
      ]
    },
    {
      "cell_type": "code",
      "metadata": {
        "id": "Iju5z1lX9FoL",
        "colab_type": "code",
        "colab": {
          "base_uri": "https://localhost:8080/",
          "height": 50
        },
        "outputId": "48c3d566-28cb-4c94-ea58-223304516acf"
      },
      "source": [
        "from sklearn.model_selection import train_test_split\n",
        "x_train, x_test, y_train, y_test = train_test_split(german[['Credit amount']],\n",
        "                                                    german['Duration in month'],\n",
        "                                                    random_state = 42, test_size = 0.3)\n",
        "print(x_train.shape, x_test.shape)\n",
        "print(y_train.shape, y_test.shape)"
      ],
      "execution_count": 6,
      "outputs": [
        {
          "output_type": "stream",
          "text": [
            "(700, 1) (300, 1)\n",
            "(700,) (300,)\n"
          ],
          "name": "stdout"
        }
      ]
    },
    {
      "cell_type": "code",
      "metadata": {
        "id": "KjMSmQac9GIn",
        "colab_type": "code",
        "colab": {
          "base_uri": "https://localhost:8080/",
          "height": 202
        },
        "outputId": "5c1f8f06-e59f-43d9-9e9a-94b1e3f566ad"
      },
      "source": [
        "y_train.head(10)"
      ],
      "execution_count": null,
      "outputs": [
        {
          "output_type": "execute_result",
          "data": {
            "text/plain": [
              "541    24\n",
              "440    12\n",
              "482    30\n",
              "422    12\n",
              "778    36\n",
              "949    24\n",
              "334    24\n",
              "576    12\n",
              "934    12\n",
              "567    24\n",
              "Name: Duration in month, dtype: int64"
            ]
          },
          "metadata": {
            "tags": []
          },
          "execution_count": 6
        }
      ]
    },
    {
      "cell_type": "code",
      "metadata": {
        "id": "W5ZmuLw49Gki",
        "colab_type": "code",
        "colab": {
          "base_uri": "https://localhost:8080/",
          "height": 343
        },
        "outputId": "11d67d29-ce55-4436-86b8-7b3b2db3ccdc"
      },
      "source": [
        "x_train.head(10)"
      ],
      "execution_count": null,
      "outputs": [
        {
          "output_type": "execute_result",
          "data": {
            "text/html": [
              "<div>\n",
              "<style scoped>\n",
              "    .dataframe tbody tr th:only-of-type {\n",
              "        vertical-align: middle;\n",
              "    }\n",
              "\n",
              "    .dataframe tbody tr th {\n",
              "        vertical-align: top;\n",
              "    }\n",
              "\n",
              "    .dataframe thead th {\n",
              "        text-align: right;\n",
              "    }\n",
              "</style>\n",
              "<table border=\"1\" class=\"dataframe\">\n",
              "  <thead>\n",
              "    <tr style=\"text-align: right;\">\n",
              "      <th></th>\n",
              "      <th>Credit amount</th>\n",
              "    </tr>\n",
              "  </thead>\n",
              "  <tbody>\n",
              "    <tr>\n",
              "      <th>541</th>\n",
              "      <td>2032</td>\n",
              "    </tr>\n",
              "    <tr>\n",
              "      <th>440</th>\n",
              "      <td>1884</td>\n",
              "    </tr>\n",
              "    <tr>\n",
              "      <th>482</th>\n",
              "      <td>3622</td>\n",
              "    </tr>\n",
              "    <tr>\n",
              "      <th>422</th>\n",
              "      <td>958</td>\n",
              "    </tr>\n",
              "    <tr>\n",
              "      <th>778</th>\n",
              "      <td>5711</td>\n",
              "    </tr>\n",
              "    <tr>\n",
              "      <th>949</th>\n",
              "      <td>3621</td>\n",
              "    </tr>\n",
              "    <tr>\n",
              "      <th>334</th>\n",
              "      <td>4110</td>\n",
              "    </tr>\n",
              "    <tr>\n",
              "      <th>576</th>\n",
              "      <td>2930</td>\n",
              "    </tr>\n",
              "    <tr>\n",
              "      <th>934</th>\n",
              "      <td>1498</td>\n",
              "    </tr>\n",
              "    <tr>\n",
              "      <th>567</th>\n",
              "      <td>2578</td>\n",
              "    </tr>\n",
              "  </tbody>\n",
              "</table>\n",
              "</div>"
            ],
            "text/plain": [
              "     Credit amount\n",
              "541           2032\n",
              "440           1884\n",
              "482           3622\n",
              "422            958\n",
              "778           5711\n",
              "949           3621\n",
              "334           4110\n",
              "576           2930\n",
              "934           1498\n",
              "567           2578"
            ]
          },
          "metadata": {
            "tags": []
          },
          "execution_count": 7
        }
      ]
    },
    {
      "cell_type": "code",
      "metadata": {
        "id": "9x0RqJ6b9HXk",
        "colab_type": "code",
        "colab": {
          "base_uri": "https://localhost:8080/",
          "height": 34
        },
        "outputId": "744f116b-d73d-4778-9337-21182ecbbbc0"
      },
      "source": [
        "# We will use linear_model from sklearn.\n",
        "# We need to predict continiuse value, so we will use Regression\n",
        "from sklearn.linear_model import LinearRegression\n",
        "# create model\n",
        "lin = LinearRegression()\n",
        "# fit model\n",
        "lin.fit(x_train, y_train)\n",
        "\n",
        "# HW Try to add new feature in X. Here we use only  'Credit amount'"
      ],
      "execution_count": 7,
      "outputs": [
        {
          "output_type": "execute_result",
          "data": {
            "text/plain": [
              "LinearRegression(copy_X=True, fit_intercept=True, n_jobs=None, normalize=False)"
            ]
          },
          "metadata": {
            "tags": []
          },
          "execution_count": 7
        }
      ]
    },
    {
      "cell_type": "code",
      "metadata": {
        "id": "IpC97ZM79HJQ",
        "colab_type": "code",
        "colab": {}
      },
      "source": [
        "prediction_train = lin.predict(x_train)\n",
        "prediction_test = lin.predict(x_test)\n"
      ],
      "execution_count": 8,
      "outputs": []
    },
    {
      "cell_type": "code",
      "metadata": {
        "id": "u7EyUBqZ9HFQ",
        "colab_type": "code",
        "colab": {
          "base_uri": "https://localhost:8080/",
          "height": 67
        },
        "outputId": "6b0f7ee2-35c8-4946-b079-ff03070bac7b"
      },
      "source": [
        "print(lin.intercept_)\n",
        "print(lin.coef_)\n",
        "print(f'Predicted Duration = {lin.intercept_} + {lin.coef_[0]} * Amount')"
      ],
      "execution_count": 9,
      "outputs": [
        {
          "output_type": "stream",
          "text": [
            "12.629467772713864\n",
            "[0.00253122]\n",
            "Predicted Duration = 12.629467772713864 + 0.0025312168585999635 * Amount\n"
          ],
          "name": "stdout"
        }
      ]
    },
    {
      "cell_type": "code",
      "metadata": {
        "id": "SN8RvZmq9HAg",
        "colab_type": "code",
        "colab": {
          "base_uri": "https://localhost:8080/",
          "height": 118
        },
        "outputId": "f0f4ed8a-75f3-46c7-dc51-7fe37d593c84"
      },
      "source": [
        "from sklearn.metrics import mean_squared_error, r2_score\n",
        "print('Train data:')\n",
        "print(mean_squared_error(y_train, prediction_train))\n",
        "print(r2_score(y_train, prediction_train))\n",
        "print('Test data:')\n",
        "print(mean_squared_error(y_test, prediction_test))\n",
        "print(r2_score(y_test, prediction_test))"
      ],
      "execution_count": 10,
      "outputs": [
        {
          "output_type": "stream",
          "text": [
            "Train data:\n",
            "84.90150146446818\n",
            "0.3996029301446602\n",
            "Test data:\n",
            "97.49575047959273\n",
            "0.3641270004847088\n"
          ],
          "name": "stdout"
        }
      ]
    },
    {
      "cell_type": "code",
      "metadata": {
        "id": "zzPb5ABO9G6t",
        "colab_type": "code",
        "colab": {}
      },
      "source": [
        "text_features = [col for col in german.columns if german[col].dtype == 'object']\n"
      ],
      "execution_count": 11,
      "outputs": []
    },
    {
      "cell_type": "code",
      "metadata": {
        "id": "sk1B75oY9Gs4",
        "colab_type": "code",
        "colab": {
          "base_uri": "https://localhost:8080/",
          "height": 642
        },
        "outputId": "e7e3bcc3-180d-4032-9522-a872e14bfb7e"
      },
      "source": [
        "# Create list of text features\n",
        "text_features = [col for col in german.columns if german[col].dtype == 'object']\n",
        "print(text_features)\n",
        "# we can't use text features, so encode ones in numeric with fummies encoder\n",
        "text_data = pd.get_dummies(german[text_features], prefix = text_features, drop_first = True)\n",
        "print(text_data.columns)"
      ],
      "execution_count": 12,
      "outputs": [
        {
          "output_type": "stream",
          "text": [
            "['Status of existing checking account', 'Credit history', 'Purpose', 'Savings account/bonds', 'Present employment since', 'Personal status and sex', 'Other debtors / guarantors', 'Property', 'Other installment plans', 'Housing', 'Job', 'Telephone', 'foreign worker']\n",
            "Index(['Status of existing checking account_2 : 0 <= ... < 200 DM',\n",
            "       'Status of existing checking account_3 : ... >= 200 DM / salary assignments for at least 1 year',\n",
            "       'Status of existing checking account_4 : no checking account',\n",
            "       'Credit history_1 : all credits at this bank paid back duly',\n",
            "       'Credit history_2 : existing credits paid back duly till now',\n",
            "       'Credit history_3 : delay in paying off in the past',\n",
            "       'Credit history_4 : critical account/ other credits existing (not at this bank)',\n",
            "       'Purpose_1 : car (used)', 'Purpose_10 : others',\n",
            "       'Purpose_2 : furniture/equipment', 'Purpose_3 : radio/television',\n",
            "       'Purpose_4 : domestic appliances', 'Purpose_5 : repairs',\n",
            "       'Purpose_6 : education', 'Purpose_8 : retraining',\n",
            "       'Purpose_9 : business', 'Savings account/bonds_2 : 100 <= ... < 500 DM',\n",
            "       'Savings account/bonds_3 : 500 <= ... < 1000 DM',\n",
            "       'Savings account/bonds_4 : .. >= 1000 DM',\n",
            "       'Savings account/bonds_5 : unknown/ no savings account',\n",
            "       'Present employment since_2 : ... < 1 year',\n",
            "       'Present employment since_3 : 1 <= ... < 4 years',\n",
            "       'Present employment since_4 : 4 <= ... < 7 years',\n",
            "       'Present employment since_5 : .. >= 7 years',\n",
            "       'Personal status and sex_2 : female : divorced/separated/married',\n",
            "       'Personal status and sex_3 : male : single',\n",
            "       'Personal status and sex_4 : male : married/widowed',\n",
            "       'Other debtors / guarantors_2 : co-applicant',\n",
            "       'Other debtors / guarantors_3 : guarantor',\n",
            "       'Property_2 : if not 1 : building society savings agreement/ life insurance',\n",
            "       'Property_3 : if not 1/2: car or other, not in attribute 6',\n",
            "       'Property_4 : unknown / no property',\n",
            "       'Other installment plans_2 : stores',\n",
            "       'Other installment plans_3 : none', 'Housing_2 : own',\n",
            "       'Housing_3 : for free', 'Job_2 : unskilled - resident',\n",
            "       'Job_3 : skilled employee / official',\n",
            "       'Job_4 : management/ self-employed/ highly qualified employee/ officer',\n",
            "       'Telephone_2 : yes, registered under the customers name',\n",
            "       'foreign worker_2 : no'],\n",
            "      dtype='object')\n"
          ],
          "name": "stdout"
        }
      ]
    },
    {
      "cell_type": "code",
      "metadata": {
        "id": "h7mziPy29GfL",
        "colab_type": "code",
        "colab": {
          "base_uri": "https://localhost:8080/",
          "height": 70
        },
        "outputId": "4cd087de-c1d4-452b-b267-b9271899af0a"
      },
      "source": [
        "numeric_features = [col for col in german.columns if german[col].dtype != 'object']\n",
        "print(numeric_features)\n",
        "# concartenate encoded text data with numeric data\n",
        "german_numeric = pd.concat([german[numeric_features], text_data], axis = 1)\n",
        "print(german.shape, german_numeric.shape)"
      ],
      "execution_count": 13,
      "outputs": [
        {
          "output_type": "stream",
          "text": [
            "['Duration in month', 'Credit amount', 'Installment rate in percentage of disposable income', 'Present residence since', 'Age in years', 'Number of existing credits at this bank', 'Number of people being liable to provide maintenance for', 'Bad credit']\n",
            "(1000, 21) (1000, 49)\n"
          ],
          "name": "stdout"
        }
      ]
    },
    {
      "cell_type": "code",
      "metadata": {
        "id": "VBOLcurs-PuU",
        "colab_type": "code",
        "colab": {
          "base_uri": "https://localhost:8080/",
          "height": 54
        },
        "outputId": "064a5238-d8b4-4753-e1ce-96e8df2c0479"
      },
      "source": [
        "all_x_variables = german_numeric.columns.difference(['Bad credit']).tolist()\n",
        "print(all_x_variables)"
      ],
      "execution_count": 14,
      "outputs": [
        {
          "output_type": "stream",
          "text": [
            "['Age in years', 'Credit amount', 'Credit history_1 : all credits at this bank paid back duly', 'Credit history_2 : existing credits paid back duly till now', 'Credit history_3 : delay in paying off in the past', 'Credit history_4 : critical account/ other credits existing (not at this bank)', 'Duration in month', 'Housing_2 : own', 'Housing_3 : for free', 'Installment rate in percentage of disposable income', 'Job_2 : unskilled - resident', 'Job_3 : skilled employee / official', 'Job_4 : management/ self-employed/ highly qualified employee/ officer', 'Number of existing credits at this bank', 'Number of people being liable to provide maintenance for', 'Other debtors / guarantors_2 : co-applicant', 'Other debtors / guarantors_3 : guarantor', 'Other installment plans_2 : stores', 'Other installment plans_3 : none', 'Personal status and sex_2 : female : divorced/separated/married', 'Personal status and sex_3 : male : single', 'Personal status and sex_4 : male : married/widowed', 'Present employment since_2 : ... < 1 year', 'Present employment since_3 : 1 <= ... < 4 years', 'Present employment since_4 : 4 <= ... < 7 years', 'Present employment since_5 : .. >= 7 years', 'Present residence since', 'Property_2 : if not 1 : building society savings agreement/ life insurance', 'Property_3 : if not 1/2: car or other, not in attribute 6', 'Property_4 : unknown / no property', 'Purpose_1 : car (used)', 'Purpose_10 : others', 'Purpose_2 : furniture/equipment', 'Purpose_3 : radio/television', 'Purpose_4 : domestic appliances', 'Purpose_5 : repairs', 'Purpose_6 : education', 'Purpose_8 : retraining', 'Purpose_9 : business', 'Savings account/bonds_2 : 100 <= ... < 500 DM', 'Savings account/bonds_3 : 500 <= ... < 1000 DM', 'Savings account/bonds_4 : .. >= 1000 DM', 'Savings account/bonds_5 : unknown/ no savings account', 'Status of existing checking account_2 : 0 <= ... < 200 DM', 'Status of existing checking account_3 : ... >= 200 DM / salary assignments for at least 1 year', 'Status of existing checking account_4 : no checking account', 'Telephone_2 : yes, registered under the customers name', 'foreign worker_2 : no']\n"
          ],
          "name": "stdout"
        }
      ]
    },
    {
      "cell_type": "code",
      "metadata": {
        "id": "VRW077Et-Qdd",
        "colab_type": "code",
        "colab": {
          "base_uri": "https://localhost:8080/",
          "height": 429
        },
        "outputId": "2cc0b231-8b25-4957-fe06-94b6a164c659"
      },
      "source": [
        "german.loc[:, 'principal_pmt'] = german['Credit amount']/german['Duration in month']\n",
        "german.head(2)"
      ],
      "execution_count": 15,
      "outputs": [
        {
          "output_type": "execute_result",
          "data": {
            "text/html": [
              "<div>\n",
              "<style scoped>\n",
              "    .dataframe tbody tr th:only-of-type {\n",
              "        vertical-align: middle;\n",
              "    }\n",
              "\n",
              "    .dataframe tbody tr th {\n",
              "        vertical-align: top;\n",
              "    }\n",
              "\n",
              "    .dataframe thead th {\n",
              "        text-align: right;\n",
              "    }\n",
              "</style>\n",
              "<table border=\"1\" class=\"dataframe\">\n",
              "  <thead>\n",
              "    <tr style=\"text-align: right;\">\n",
              "      <th></th>\n",
              "      <th>Status of existing checking account</th>\n",
              "      <th>Duration in month</th>\n",
              "      <th>Credit history</th>\n",
              "      <th>Purpose</th>\n",
              "      <th>Credit amount</th>\n",
              "      <th>Savings account/bonds</th>\n",
              "      <th>Present employment since</th>\n",
              "      <th>Installment rate in percentage of disposable income</th>\n",
              "      <th>Personal status and sex</th>\n",
              "      <th>Other debtors / guarantors</th>\n",
              "      <th>Present residence since</th>\n",
              "      <th>Property</th>\n",
              "      <th>Age in years</th>\n",
              "      <th>Other installment plans</th>\n",
              "      <th>Housing</th>\n",
              "      <th>Number of existing credits at this bank</th>\n",
              "      <th>Job</th>\n",
              "      <th>Number of people being liable to provide maintenance for</th>\n",
              "      <th>Telephone</th>\n",
              "      <th>foreign worker</th>\n",
              "      <th>Bad credit</th>\n",
              "      <th>principal_pmt</th>\n",
              "    </tr>\n",
              "  </thead>\n",
              "  <tbody>\n",
              "    <tr>\n",
              "      <th>0</th>\n",
              "      <td>1 : ... &lt; 0 DM</td>\n",
              "      <td>6</td>\n",
              "      <td>4 : critical account/ other credits existing (...</td>\n",
              "      <td>3 : radio/television</td>\n",
              "      <td>1169</td>\n",
              "      <td>5 : unknown/ no savings account</td>\n",
              "      <td>5 : .. &gt;= 7 years</td>\n",
              "      <td>4</td>\n",
              "      <td>3 : male : single</td>\n",
              "      <td>1 : none</td>\n",
              "      <td>4</td>\n",
              "      <td>1 : real estate</td>\n",
              "      <td>67</td>\n",
              "      <td>3 : none</td>\n",
              "      <td>2 : own</td>\n",
              "      <td>2</td>\n",
              "      <td>3 : skilled employee / official</td>\n",
              "      <td>1</td>\n",
              "      <td>2 : yes, registered under the customers name</td>\n",
              "      <td>1 : yes</td>\n",
              "      <td>0</td>\n",
              "      <td>194.833333</td>\n",
              "    </tr>\n",
              "    <tr>\n",
              "      <th>1</th>\n",
              "      <td>2 : 0 &lt;= ... &lt; 200 DM</td>\n",
              "      <td>48</td>\n",
              "      <td>2 : existing credits paid back duly till now</td>\n",
              "      <td>3 : radio/television</td>\n",
              "      <td>5951</td>\n",
              "      <td>1 : ... &lt; 100 DM</td>\n",
              "      <td>3 : 1 &lt;= ... &lt; 4 years</td>\n",
              "      <td>2</td>\n",
              "      <td>2 : female : divorced/separated/married</td>\n",
              "      <td>1 : none</td>\n",
              "      <td>2</td>\n",
              "      <td>1 : real estate</td>\n",
              "      <td>22</td>\n",
              "      <td>3 : none</td>\n",
              "      <td>2 : own</td>\n",
              "      <td>1</td>\n",
              "      <td>3 : skilled employee / official</td>\n",
              "      <td>1</td>\n",
              "      <td>1 : none</td>\n",
              "      <td>1 : yes</td>\n",
              "      <td>1</td>\n",
              "      <td>123.979167</td>\n",
              "    </tr>\n",
              "  </tbody>\n",
              "</table>\n",
              "</div>"
            ],
            "text/plain": [
              "  Status of existing checking account  ...  principal_pmt\n",
              "0                      1 : ... < 0 DM  ...     194.833333\n",
              "1               2 : 0 <= ... < 200 DM  ...     123.979167\n",
              "\n",
              "[2 rows x 22 columns]"
            ]
          },
          "metadata": {
            "tags": []
          },
          "execution_count": 15
        }
      ]
    },
    {
      "cell_type": "code",
      "metadata": {
        "id": "JmRawsho-RJq",
        "colab_type": "code",
        "colab": {
          "base_uri": "https://localhost:8080/",
          "height": 34
        },
        "outputId": "c3e8a258-6617-4ae1-bf54-6f6f3e220126"
      },
      "source": [
        "#Find the average value of this (principal_pmt) column\n",
        "german.principal_pmt.mean()"
      ],
      "execution_count": 16,
      "outputs": [
        {
          "output_type": "execute_result",
          "data": {
            "text/plain": [
              "167.68702044503"
            ]
          },
          "metadata": {
            "tags": []
          },
          "execution_count": 16
        }
      ]
    },
    {
      "cell_type": "code",
      "metadata": {
        "id": "1aUyRx57-R2G",
        "colab_type": "code",
        "colab": {}
      },
      "source": [
        "# Lets try to predict is credit is bad\n",
        "# put all our x_variables in X arrays, and 'Bad credit' column in y\n",
        "x_train, x_test, y_train, y_test = train_test_split(german_numeric[all_x_variables]\n",
        "                                                    , german_numeric['Bad credit']\n",
        "                                                    , random_state = 42, test_size = 0.3)"
      ],
      "execution_count": 17,
      "outputs": []
    },
    {
      "cell_type": "code",
      "metadata": {
        "id": "ICmdO2PM-TGA",
        "colab_type": "code",
        "colab": {
          "base_uri": "https://localhost:8080/",
          "height": 590
        },
        "outputId": "d159db68-e27a-40bc-c0c6-fa3dd2be8dff"
      },
      "source": [
        "x_train"
      ],
      "execution_count": null,
      "outputs": [
        {
          "output_type": "execute_result",
          "data": {
            "text/html": [
              "<div>\n",
              "<style scoped>\n",
              "    .dataframe tbody tr th:only-of-type {\n",
              "        vertical-align: middle;\n",
              "    }\n",
              "\n",
              "    .dataframe tbody tr th {\n",
              "        vertical-align: top;\n",
              "    }\n",
              "\n",
              "    .dataframe thead th {\n",
              "        text-align: right;\n",
              "    }\n",
              "</style>\n",
              "<table border=\"1\" class=\"dataframe\">\n",
              "  <thead>\n",
              "    <tr style=\"text-align: right;\">\n",
              "      <th></th>\n",
              "      <th>Age in years</th>\n",
              "      <th>Credit amount</th>\n",
              "      <th>Credit history_1 : all credits at this bank paid back duly</th>\n",
              "      <th>Credit history_2 : existing credits paid back duly till now</th>\n",
              "      <th>Credit history_3 : delay in paying off in the past</th>\n",
              "      <th>Credit history_4 : critical account/ other credits existing (not at this bank)</th>\n",
              "      <th>Duration in month</th>\n",
              "      <th>Housing_2 : own</th>\n",
              "      <th>Housing_3 : for free</th>\n",
              "      <th>Installment rate in percentage of disposable income</th>\n",
              "      <th>Job_2 : unskilled - resident</th>\n",
              "      <th>Job_3 : skilled employee / official</th>\n",
              "      <th>Job_4 : management/ self-employed/ highly qualified employee/ officer</th>\n",
              "      <th>Number of existing credits at this bank</th>\n",
              "      <th>Number of people being liable to provide maintenance for</th>\n",
              "      <th>Other debtors / guarantors_2 : co-applicant</th>\n",
              "      <th>Other debtors / guarantors_3 : guarantor</th>\n",
              "      <th>Other installment plans_2 : stores</th>\n",
              "      <th>Other installment plans_3 : none</th>\n",
              "      <th>Personal status and sex_2 : female : divorced/separated/married</th>\n",
              "      <th>Personal status and sex_3 : male : single</th>\n",
              "      <th>Personal status and sex_4 : male : married/widowed</th>\n",
              "      <th>Present employment since_2 : ... &lt; 1 year</th>\n",
              "      <th>Present employment since_3 : 1 &lt;= ... &lt; 4 years</th>\n",
              "      <th>Present employment since_4 : 4 &lt;= ... &lt; 7 years</th>\n",
              "      <th>Present employment since_5 : .. &gt;= 7 years</th>\n",
              "      <th>Present residence since</th>\n",
              "      <th>Property_2 : if not 1 : building society savings agreement/ life insurance</th>\n",
              "      <th>Property_3 : if not 1/2: car or other, not in attribute 6</th>\n",
              "      <th>Property_4 : unknown / no property</th>\n",
              "      <th>Purpose_1 : car (used)</th>\n",
              "      <th>Purpose_10 : others</th>\n",
              "      <th>Purpose_2 : furniture/equipment</th>\n",
              "      <th>Purpose_3 : radio/television</th>\n",
              "      <th>Purpose_4 : domestic appliances</th>\n",
              "      <th>Purpose_5 : repairs</th>\n",
              "      <th>Purpose_6 : education</th>\n",
              "      <th>Purpose_8 : retraining</th>\n",
              "      <th>Purpose_9 : business</th>\n",
              "      <th>Savings account/bonds_2 : 100 &lt;= ... &lt; 500 DM</th>\n",
              "      <th>Savings account/bonds_3 : 500 &lt;= ... &lt; 1000 DM</th>\n",
              "      <th>Savings account/bonds_4 : .. &gt;= 1000 DM</th>\n",
              "      <th>Savings account/bonds_5 : unknown/ no savings account</th>\n",
              "      <th>Status of existing checking account_2 : 0 &lt;= ... &lt; 200 DM</th>\n",
              "      <th>Status of existing checking account_3 : ... &gt;= 200 DM / salary assignments for at least 1 year</th>\n",
              "      <th>Status of existing checking account_4 : no checking account</th>\n",
              "      <th>Telephone_2 : yes, registered under the customers name</th>\n",
              "      <th>foreign worker_2 : no</th>\n",
              "    </tr>\n",
              "  </thead>\n",
              "  <tbody>\n",
              "    <tr>\n",
              "      <th>541</th>\n",
              "      <td>60</td>\n",
              "      <td>2032</td>\n",
              "      <td>0</td>\n",
              "      <td>0</td>\n",
              "      <td>1</td>\n",
              "      <td>0</td>\n",
              "      <td>24</td>\n",
              "      <td>0</td>\n",
              "      <td>1</td>\n",
              "      <td>4</td>\n",
              "      <td>0</td>\n",
              "      <td>1</td>\n",
              "      <td>0</td>\n",
              "      <td>2</td>\n",
              "      <td>1</td>\n",
              "      <td>0</td>\n",
              "      <td>0</td>\n",
              "      <td>0</td>\n",
              "      <td>1</td>\n",
              "      <td>0</td>\n",
              "      <td>1</td>\n",
              "      <td>0</td>\n",
              "      <td>0</td>\n",
              "      <td>0</td>\n",
              "      <td>0</td>\n",
              "      <td>1</td>\n",
              "      <td>4</td>\n",
              "      <td>0</td>\n",
              "      <td>0</td>\n",
              "      <td>1</td>\n",
              "      <td>0</td>\n",
              "      <td>0</td>\n",
              "      <td>0</td>\n",
              "      <td>0</td>\n",
              "      <td>0</td>\n",
              "      <td>0</td>\n",
              "      <td>0</td>\n",
              "      <td>0</td>\n",
              "      <td>0</td>\n",
              "      <td>0</td>\n",
              "      <td>0</td>\n",
              "      <td>0</td>\n",
              "      <td>0</td>\n",
              "      <td>0</td>\n",
              "      <td>0</td>\n",
              "      <td>1</td>\n",
              "      <td>1</td>\n",
              "      <td>0</td>\n",
              "    </tr>\n",
              "    <tr>\n",
              "      <th>440</th>\n",
              "      <td>39</td>\n",
              "      <td>1884</td>\n",
              "      <td>0</td>\n",
              "      <td>1</td>\n",
              "      <td>0</td>\n",
              "      <td>0</td>\n",
              "      <td>12</td>\n",
              "      <td>1</td>\n",
              "      <td>0</td>\n",
              "      <td>4</td>\n",
              "      <td>0</td>\n",
              "      <td>0</td>\n",
              "      <td>1</td>\n",
              "      <td>1</td>\n",
              "      <td>1</td>\n",
              "      <td>0</td>\n",
              "      <td>0</td>\n",
              "      <td>0</td>\n",
              "      <td>1</td>\n",
              "      <td>0</td>\n",
              "      <td>1</td>\n",
              "      <td>0</td>\n",
              "      <td>0</td>\n",
              "      <td>0</td>\n",
              "      <td>0</td>\n",
              "      <td>1</td>\n",
              "      <td>4</td>\n",
              "      <td>0</td>\n",
              "      <td>1</td>\n",
              "      <td>0</td>\n",
              "      <td>0</td>\n",
              "      <td>0</td>\n",
              "      <td>0</td>\n",
              "      <td>0</td>\n",
              "      <td>0</td>\n",
              "      <td>0</td>\n",
              "      <td>0</td>\n",
              "      <td>0</td>\n",
              "      <td>0</td>\n",
              "      <td>0</td>\n",
              "      <td>0</td>\n",
              "      <td>0</td>\n",
              "      <td>0</td>\n",
              "      <td>0</td>\n",
              "      <td>0</td>\n",
              "      <td>1</td>\n",
              "      <td>1</td>\n",
              "      <td>0</td>\n",
              "    </tr>\n",
              "    <tr>\n",
              "      <th>482</th>\n",
              "      <td>57</td>\n",
              "      <td>3622</td>\n",
              "      <td>0</td>\n",
              "      <td>1</td>\n",
              "      <td>0</td>\n",
              "      <td>0</td>\n",
              "      <td>30</td>\n",
              "      <td>0</td>\n",
              "      <td>0</td>\n",
              "      <td>4</td>\n",
              "      <td>0</td>\n",
              "      <td>1</td>\n",
              "      <td>0</td>\n",
              "      <td>2</td>\n",
              "      <td>1</td>\n",
              "      <td>0</td>\n",
              "      <td>0</td>\n",
              "      <td>0</td>\n",
              "      <td>1</td>\n",
              "      <td>1</td>\n",
              "      <td>0</td>\n",
              "      <td>0</td>\n",
              "      <td>0</td>\n",
              "      <td>0</td>\n",
              "      <td>0</td>\n",
              "      <td>1</td>\n",
              "      <td>4</td>\n",
              "      <td>1</td>\n",
              "      <td>0</td>\n",
              "      <td>0</td>\n",
              "      <td>0</td>\n",
              "      <td>0</td>\n",
              "      <td>1</td>\n",
              "      <td>0</td>\n",
              "      <td>0</td>\n",
              "      <td>0</td>\n",
              "      <td>0</td>\n",
              "      <td>0</td>\n",
              "      <td>0</td>\n",
              "      <td>0</td>\n",
              "      <td>0</td>\n",
              "      <td>1</td>\n",
              "      <td>0</td>\n",
              "      <td>0</td>\n",
              "      <td>0</td>\n",
              "      <td>0</td>\n",
              "      <td>1</td>\n",
              "      <td>0</td>\n",
              "    </tr>\n",
              "    <tr>\n",
              "      <th>422</th>\n",
              "      <td>47</td>\n",
              "      <td>958</td>\n",
              "      <td>0</td>\n",
              "      <td>0</td>\n",
              "      <td>0</td>\n",
              "      <td>1</td>\n",
              "      <td>12</td>\n",
              "      <td>1</td>\n",
              "      <td>0</td>\n",
              "      <td>2</td>\n",
              "      <td>1</td>\n",
              "      <td>0</td>\n",
              "      <td>0</td>\n",
              "      <td>2</td>\n",
              "      <td>2</td>\n",
              "      <td>0</td>\n",
              "      <td>0</td>\n",
              "      <td>0</td>\n",
              "      <td>1</td>\n",
              "      <td>0</td>\n",
              "      <td>1</td>\n",
              "      <td>0</td>\n",
              "      <td>0</td>\n",
              "      <td>0</td>\n",
              "      <td>1</td>\n",
              "      <td>0</td>\n",
              "      <td>3</td>\n",
              "      <td>0</td>\n",
              "      <td>0</td>\n",
              "      <td>0</td>\n",
              "      <td>0</td>\n",
              "      <td>0</td>\n",
              "      <td>0</td>\n",
              "      <td>0</td>\n",
              "      <td>0</td>\n",
              "      <td>0</td>\n",
              "      <td>0</td>\n",
              "      <td>0</td>\n",
              "      <td>0</td>\n",
              "      <td>0</td>\n",
              "      <td>0</td>\n",
              "      <td>0</td>\n",
              "      <td>0</td>\n",
              "      <td>1</td>\n",
              "      <td>0</td>\n",
              "      <td>0</td>\n",
              "      <td>0</td>\n",
              "      <td>0</td>\n",
              "    </tr>\n",
              "    <tr>\n",
              "      <th>778</th>\n",
              "      <td>38</td>\n",
              "      <td>5711</td>\n",
              "      <td>0</td>\n",
              "      <td>0</td>\n",
              "      <td>0</td>\n",
              "      <td>1</td>\n",
              "      <td>36</td>\n",
              "      <td>1</td>\n",
              "      <td>0</td>\n",
              "      <td>4</td>\n",
              "      <td>0</td>\n",
              "      <td>0</td>\n",
              "      <td>1</td>\n",
              "      <td>2</td>\n",
              "      <td>1</td>\n",
              "      <td>0</td>\n",
              "      <td>0</td>\n",
              "      <td>0</td>\n",
              "      <td>1</td>\n",
              "      <td>0</td>\n",
              "      <td>1</td>\n",
              "      <td>0</td>\n",
              "      <td>0</td>\n",
              "      <td>0</td>\n",
              "      <td>0</td>\n",
              "      <td>1</td>\n",
              "      <td>2</td>\n",
              "      <td>0</td>\n",
              "      <td>1</td>\n",
              "      <td>0</td>\n",
              "      <td>1</td>\n",
              "      <td>0</td>\n",
              "      <td>0</td>\n",
              "      <td>0</td>\n",
              "      <td>0</td>\n",
              "      <td>0</td>\n",
              "      <td>0</td>\n",
              "      <td>0</td>\n",
              "      <td>0</td>\n",
              "      <td>0</td>\n",
              "      <td>0</td>\n",
              "      <td>1</td>\n",
              "      <td>0</td>\n",
              "      <td>0</td>\n",
              "      <td>0</td>\n",
              "      <td>1</td>\n",
              "      <td>1</td>\n",
              "      <td>0</td>\n",
              "    </tr>\n",
              "    <tr>\n",
              "      <th>...</th>\n",
              "      <td>...</td>\n",
              "      <td>...</td>\n",
              "      <td>...</td>\n",
              "      <td>...</td>\n",
              "      <td>...</td>\n",
              "      <td>...</td>\n",
              "      <td>...</td>\n",
              "      <td>...</td>\n",
              "      <td>...</td>\n",
              "      <td>...</td>\n",
              "      <td>...</td>\n",
              "      <td>...</td>\n",
              "      <td>...</td>\n",
              "      <td>...</td>\n",
              "      <td>...</td>\n",
              "      <td>...</td>\n",
              "      <td>...</td>\n",
              "      <td>...</td>\n",
              "      <td>...</td>\n",
              "      <td>...</td>\n",
              "      <td>...</td>\n",
              "      <td>...</td>\n",
              "      <td>...</td>\n",
              "      <td>...</td>\n",
              "      <td>...</td>\n",
              "      <td>...</td>\n",
              "      <td>...</td>\n",
              "      <td>...</td>\n",
              "      <td>...</td>\n",
              "      <td>...</td>\n",
              "      <td>...</td>\n",
              "      <td>...</td>\n",
              "      <td>...</td>\n",
              "      <td>...</td>\n",
              "      <td>...</td>\n",
              "      <td>...</td>\n",
              "      <td>...</td>\n",
              "      <td>...</td>\n",
              "      <td>...</td>\n",
              "      <td>...</td>\n",
              "      <td>...</td>\n",
              "      <td>...</td>\n",
              "      <td>...</td>\n",
              "      <td>...</td>\n",
              "      <td>...</td>\n",
              "      <td>...</td>\n",
              "      <td>...</td>\n",
              "      <td>...</td>\n",
              "    </tr>\n",
              "    <tr>\n",
              "      <th>106</th>\n",
              "      <td>39</td>\n",
              "      <td>6458</td>\n",
              "      <td>1</td>\n",
              "      <td>0</td>\n",
              "      <td>0</td>\n",
              "      <td>0</td>\n",
              "      <td>18</td>\n",
              "      <td>1</td>\n",
              "      <td>0</td>\n",
              "      <td>2</td>\n",
              "      <td>0</td>\n",
              "      <td>0</td>\n",
              "      <td>1</td>\n",
              "      <td>2</td>\n",
              "      <td>2</td>\n",
              "      <td>0</td>\n",
              "      <td>0</td>\n",
              "      <td>0</td>\n",
              "      <td>0</td>\n",
              "      <td>0</td>\n",
              "      <td>1</td>\n",
              "      <td>0</td>\n",
              "      <td>0</td>\n",
              "      <td>0</td>\n",
              "      <td>0</td>\n",
              "      <td>1</td>\n",
              "      <td>4</td>\n",
              "      <td>0</td>\n",
              "      <td>0</td>\n",
              "      <td>1</td>\n",
              "      <td>0</td>\n",
              "      <td>0</td>\n",
              "      <td>0</td>\n",
              "      <td>0</td>\n",
              "      <td>0</td>\n",
              "      <td>0</td>\n",
              "      <td>0</td>\n",
              "      <td>0</td>\n",
              "      <td>0</td>\n",
              "      <td>0</td>\n",
              "      <td>0</td>\n",
              "      <td>0</td>\n",
              "      <td>0</td>\n",
              "      <td>0</td>\n",
              "      <td>0</td>\n",
              "      <td>1</td>\n",
              "      <td>1</td>\n",
              "      <td>0</td>\n",
              "    </tr>\n",
              "    <tr>\n",
              "      <th>270</th>\n",
              "      <td>32</td>\n",
              "      <td>2662</td>\n",
              "      <td>0</td>\n",
              "      <td>1</td>\n",
              "      <td>0</td>\n",
              "      <td>0</td>\n",
              "      <td>18</td>\n",
              "      <td>1</td>\n",
              "      <td>0</td>\n",
              "      <td>4</td>\n",
              "      <td>0</td>\n",
              "      <td>1</td>\n",
              "      <td>0</td>\n",
              "      <td>1</td>\n",
              "      <td>1</td>\n",
              "      <td>0</td>\n",
              "      <td>0</td>\n",
              "      <td>0</td>\n",
              "      <td>1</td>\n",
              "      <td>0</td>\n",
              "      <td>1</td>\n",
              "      <td>0</td>\n",
              "      <td>0</td>\n",
              "      <td>0</td>\n",
              "      <td>1</td>\n",
              "      <td>0</td>\n",
              "      <td>3</td>\n",
              "      <td>1</td>\n",
              "      <td>0</td>\n",
              "      <td>0</td>\n",
              "      <td>0</td>\n",
              "      <td>0</td>\n",
              "      <td>0</td>\n",
              "      <td>0</td>\n",
              "      <td>0</td>\n",
              "      <td>0</td>\n",
              "      <td>0</td>\n",
              "      <td>0</td>\n",
              "      <td>0</td>\n",
              "      <td>0</td>\n",
              "      <td>0</td>\n",
              "      <td>0</td>\n",
              "      <td>1</td>\n",
              "      <td>0</td>\n",
              "      <td>0</td>\n",
              "      <td>1</td>\n",
              "      <td>0</td>\n",
              "      <td>1</td>\n",
              "    </tr>\n",
              "    <tr>\n",
              "      <th>860</th>\n",
              "      <td>27</td>\n",
              "      <td>5804</td>\n",
              "      <td>0</td>\n",
              "      <td>0</td>\n",
              "      <td>0</td>\n",
              "      <td>1</td>\n",
              "      <td>24</td>\n",
              "      <td>1</td>\n",
              "      <td>0</td>\n",
              "      <td>4</td>\n",
              "      <td>0</td>\n",
              "      <td>1</td>\n",
              "      <td>0</td>\n",
              "      <td>2</td>\n",
              "      <td>1</td>\n",
              "      <td>0</td>\n",
              "      <td>0</td>\n",
              "      <td>0</td>\n",
              "      <td>1</td>\n",
              "      <td>0</td>\n",
              "      <td>1</td>\n",
              "      <td>0</td>\n",
              "      <td>0</td>\n",
              "      <td>1</td>\n",
              "      <td>0</td>\n",
              "      <td>0</td>\n",
              "      <td>2</td>\n",
              "      <td>0</td>\n",
              "      <td>0</td>\n",
              "      <td>0</td>\n",
              "      <td>1</td>\n",
              "      <td>0</td>\n",
              "      <td>0</td>\n",
              "      <td>0</td>\n",
              "      <td>0</td>\n",
              "      <td>0</td>\n",
              "      <td>0</td>\n",
              "      <td>0</td>\n",
              "      <td>0</td>\n",
              "      <td>0</td>\n",
              "      <td>0</td>\n",
              "      <td>1</td>\n",
              "      <td>0</td>\n",
              "      <td>0</td>\n",
              "      <td>0</td>\n",
              "      <td>1</td>\n",
              "      <td>0</td>\n",
              "      <td>0</td>\n",
              "    </tr>\n",
              "    <tr>\n",
              "      <th>435</th>\n",
              "      <td>25</td>\n",
              "      <td>1484</td>\n",
              "      <td>0</td>\n",
              "      <td>1</td>\n",
              "      <td>0</td>\n",
              "      <td>0</td>\n",
              "      <td>12</td>\n",
              "      <td>1</td>\n",
              "      <td>0</td>\n",
              "      <td>2</td>\n",
              "      <td>0</td>\n",
              "      <td>1</td>\n",
              "      <td>0</td>\n",
              "      <td>1</td>\n",
              "      <td>1</td>\n",
              "      <td>0</td>\n",
              "      <td>0</td>\n",
              "      <td>0</td>\n",
              "      <td>1</td>\n",
              "      <td>0</td>\n",
              "      <td>0</td>\n",
              "      <td>1</td>\n",
              "      <td>0</td>\n",
              "      <td>1</td>\n",
              "      <td>0</td>\n",
              "      <td>0</td>\n",
              "      <td>1</td>\n",
              "      <td>0</td>\n",
              "      <td>0</td>\n",
              "      <td>0</td>\n",
              "      <td>0</td>\n",
              "      <td>0</td>\n",
              "      <td>0</td>\n",
              "      <td>1</td>\n",
              "      <td>0</td>\n",
              "      <td>0</td>\n",
              "      <td>0</td>\n",
              "      <td>0</td>\n",
              "      <td>0</td>\n",
              "      <td>0</td>\n",
              "      <td>0</td>\n",
              "      <td>0</td>\n",
              "      <td>1</td>\n",
              "      <td>1</td>\n",
              "      <td>0</td>\n",
              "      <td>0</td>\n",
              "      <td>1</td>\n",
              "      <td>0</td>\n",
              "    </tr>\n",
              "    <tr>\n",
              "      <th>102</th>\n",
              "      <td>24</td>\n",
              "      <td>932</td>\n",
              "      <td>0</td>\n",
              "      <td>0</td>\n",
              "      <td>1</td>\n",
              "      <td>0</td>\n",
              "      <td>6</td>\n",
              "      <td>1</td>\n",
              "      <td>0</td>\n",
              "      <td>3</td>\n",
              "      <td>0</td>\n",
              "      <td>1</td>\n",
              "      <td>0</td>\n",
              "      <td>1</td>\n",
              "      <td>1</td>\n",
              "      <td>0</td>\n",
              "      <td>0</td>\n",
              "      <td>0</td>\n",
              "      <td>1</td>\n",
              "      <td>1</td>\n",
              "      <td>0</td>\n",
              "      <td>0</td>\n",
              "      <td>0</td>\n",
              "      <td>1</td>\n",
              "      <td>0</td>\n",
              "      <td>0</td>\n",
              "      <td>2</td>\n",
              "      <td>0</td>\n",
              "      <td>0</td>\n",
              "      <td>0</td>\n",
              "      <td>0</td>\n",
              "      <td>0</td>\n",
              "      <td>0</td>\n",
              "      <td>1</td>\n",
              "      <td>0</td>\n",
              "      <td>0</td>\n",
              "      <td>0</td>\n",
              "      <td>0</td>\n",
              "      <td>0</td>\n",
              "      <td>0</td>\n",
              "      <td>0</td>\n",
              "      <td>0</td>\n",
              "      <td>0</td>\n",
              "      <td>0</td>\n",
              "      <td>0</td>\n",
              "      <td>1</td>\n",
              "      <td>0</td>\n",
              "      <td>0</td>\n",
              "    </tr>\n",
              "  </tbody>\n",
              "</table>\n",
              "<p>700 rows × 48 columns</p>\n",
              "</div>"
            ],
            "text/plain": [
              "     Age in years  ...  foreign worker_2 : no\n",
              "541            60  ...                      0\n",
              "440            39  ...                      0\n",
              "482            57  ...                      0\n",
              "422            47  ...                      0\n",
              "778            38  ...                      0\n",
              "..            ...  ...                    ...\n",
              "106            39  ...                      0\n",
              "270            32  ...                      1\n",
              "860            27  ...                      0\n",
              "435            25  ...                      0\n",
              "102            24  ...                      0\n",
              "\n",
              "[700 rows x 48 columns]"
            ]
          },
          "metadata": {
            "tags": []
          },
          "execution_count": 19
        }
      ]
    },
    {
      "cell_type": "code",
      "metadata": {
        "id": "6eeNA43R-S1S",
        "colab_type": "code",
        "colab": {}
      },
      "source": [
        ""
      ],
      "execution_count": null,
      "outputs": []
    },
    {
      "cell_type": "markdown",
      "metadata": {
        "id": "agoE1C-gNGlk",
        "colab_type": "text"
      },
      "source": [
        "# New Section"
      ]
    },
    {
      "cell_type": "code",
      "metadata": {
        "id": "mAB-6K_N-SsS",
        "colab_type": "code",
        "colab": {}
      },
      "source": [
        "from sklearn.tree import DecisionTreeClassifier # Import Decision Tree Classifier\n",
        "from sklearn import metrics #Import scikit-learn metrics module for accuracy calculation\n",
        "from sklearn import tree"
      ],
      "execution_count": 19,
      "outputs": []
    },
    {
      "cell_type": "code",
      "metadata": {
        "id": "OS9OwMNxOUQ0",
        "colab_type": "code",
        "colab": {}
      },
      "source": [
        ""
      ],
      "execution_count": null,
      "outputs": []
    },
    {
      "cell_type": "code",
      "metadata": {
        "id": "BqSqcXj3-Skt",
        "colab_type": "code",
        "colab": {
          "base_uri": "https://localhost:8080/",
          "height": 500
        },
        "outputId": "ee5084d0-4e8d-4d32-b668-0364844bd6d3"
      },
      "source": [
        "# Create Decision Tree classifer object\n",
        "clf = DecisionTreeClassifier(criterion=\"entropy\", max_depth=3)\n",
        "\n",
        "# Train Decision Tree Classifer\n",
        "clf = clf.fit(x_train,y_train)\n",
        "\n",
        "#Predict the response for test dataset\n",
        "y_pred = clf.predict(x_test)\n",
        "tree.plot_tree(clf) "
      ],
      "execution_count": 20,
      "outputs": [
        {
          "output_type": "execute_result",
          "data": {
            "text/plain": [
              "[Text(167.4, 190.26, 'X[45] <= 0.5\\nentropy = 0.88\\nsamples = 700\\nvalue = [491, 209]'),\n",
              " Text(83.7, 135.9, 'X[6] <= 33.0\\nentropy = 0.976\\nsamples = 425\\nvalue = [251, 174]'),\n",
              " Text(41.85, 81.53999999999999, 'X[1] <= 10975.5\\nentropy = 0.939\\nsamples = 343\\nvalue = [221, 122]'),\n",
              " Text(20.925, 27.180000000000007, 'entropy = 0.929\\nsamples = 337\\nvalue = [221, 116]'),\n",
              " Text(62.775000000000006, 27.180000000000007, 'entropy = 0.0\\nsamples = 6\\nvalue = [0, 6]'),\n",
              " Text(125.55000000000001, 81.53999999999999, 'X[25] <= 0.5\\nentropy = 0.947\\nsamples = 82\\nvalue = [30, 52]'),\n",
              " Text(104.625, 27.180000000000007, 'entropy = 0.983\\nsamples = 66\\nvalue = [28, 38]'),\n",
              " Text(146.475, 27.180000000000007, 'entropy = 0.544\\nsamples = 16\\nvalue = [2, 14]'),\n",
              " Text(251.10000000000002, 135.9, 'X[18] <= 0.5\\nentropy = 0.55\\nsamples = 275\\nvalue = [240, 35]'),\n",
              " Text(209.25, 81.53999999999999, 'X[33] <= 0.5\\nentropy = 0.887\\nsamples = 46\\nvalue = [32, 14]'),\n",
              " Text(188.32500000000002, 27.180000000000007, 'entropy = 0.974\\nsamples = 32\\nvalue = [19, 13]'),\n",
              " Text(230.175, 27.180000000000007, 'entropy = 0.371\\nsamples = 14\\nvalue = [13, 1]'),\n",
              " Text(292.95, 81.53999999999999, 'X[5] <= 0.5\\nentropy = 0.442\\nsamples = 229\\nvalue = [208, 21]'),\n",
              " Text(272.02500000000003, 27.180000000000007, 'entropy = 0.592\\nsamples = 133\\nvalue = [114, 19]'),\n",
              " Text(313.875, 27.180000000000007, 'entropy = 0.146\\nsamples = 96\\nvalue = [94, 2]')]"
            ]
          },
          "metadata": {
            "tags": []
          },
          "execution_count": 20
        },
        {
          "output_type": "display_data",
          "data": {
            "image/png": "[encoded data removed]",
            "text/plain": [
              "<Figure size 432x288 with 1 Axes>"
            ]
          },
          "metadata": {
            "tags": [],
            "needs_background": "light"
          }
        }
      ]
    },
    {
      "cell_type": "code",
      "metadata": {
        "id": "yZ3TXjIV-SbS",
        "colab_type": "code",
        "colab": {
          "base_uri": "https://localhost:8080/",
          "height": 34
        },
        "outputId": "ce586c8d-9432-46b2-a208-a3fb2756b9f4"
      },
      "source": [
        "# Model Accuracy, how often is the classifier correct?\n",
        "print(\"Accuracy:\",metrics.accuracy_score(y_test, y_pred))"
      ],
      "execution_count": null,
      "outputs": [
        {
          "output_type": "stream",
          "text": [
            "Accuracy: 0.7166666666666667\n"
          ],
          "name": "stdout"
        }
      ]
    },
    {
      "cell_type": "code",
      "metadata": {
        "id": "X2SRSw6LtNXB",
        "colab_type": "code",
        "colab": {}
      },
      "source": [
        "#RandomForestClassifier"
      ],
      "execution_count": null,
      "outputs": []
    },
    {
      "cell_type": "code",
      "metadata": {
        "id": "loW44qwitQhF",
        "colab_type": "code",
        "colab": {}
      },
      "source": [
        "from sklearn.ensemble import RandomForestClassifier\n",
        "from matplotlib import pyplot as plt\n"
      ],
      "execution_count": null,
      "outputs": []
    },
    {
      "cell_type": "code",
      "metadata": {
        "id": "WmxQFBKhtQ2X",
        "colab_type": "code",
        "colab": {
          "base_uri": "https://localhost:8080/",
          "height": 151
        },
        "outputId": "9091dfaf-126b-462c-e586-3c8fd203fe52"
      },
      "source": [
        "forest = RandomForestClassifier(n_estimators=15, max_depth=300, random_state=44)\n",
        "forest.fit(x_train, y_train)"
      ],
      "execution_count": null,
      "outputs": [
        {
          "output_type": "execute_result",
          "data": {
            "text/plain": [
              "RandomForestClassifier(bootstrap=True, ccp_alpha=0.0, class_weight=None,\n",
              "                       criterion='gini', max_depth=300, max_features='auto',\n",
              "                       max_leaf_nodes=None, max_samples=None,\n",
              "                       min_impurity_decrease=0.0, min_impurity_split=None,\n",
              "                       min_samples_leaf=1, min_samples_split=2,\n",
              "                       min_weight_fraction_leaf=0.0, n_estimators=15,\n",
              "                       n_jobs=None, oob_score=False, random_state=44, verbose=0,\n",
              "                       warm_start=False)"
            ]
          },
          "metadata": {
            "tags": []
          },
          "execution_count": 26
        }
      ]
    },
    {
      "cell_type": "code",
      "metadata": {
        "id": "IDIOGws3tQzk",
        "colab_type": "code",
        "colab": {
          "base_uri": "https://localhost:8080/",
          "height": 34
        },
        "outputId": "cecbcbfb-527f-4d90-c6b7-4602bc1e2135"
      },
      "source": [
        "y_pred = forest.predict(x_test)\n",
        "print(\"Accuracy:\",metrics.accuracy_score(y_test, y_pred))"
      ],
      "execution_count": null,
      "outputs": [
        {
          "output_type": "stream",
          "text": [
            "Accuracy: 0.7233333333333334\n"
          ],
          "name": "stdout"
        }
      ]
    },
    {
      "cell_type": "code",
      "metadata": {
        "id": "XxRNg5g9tQtA",
        "colab_type": "code",
        "colab": {}
      },
      "source": [
        "#XGBClassifier"
      ],
      "execution_count": null,
      "outputs": []
    },
    {
      "cell_type": "code",
      "metadata": {
        "id": "4l7P_pI-xLr7",
        "colab_type": "code",
        "colab": {}
      },
      "source": [
        "import xgboost as xgb\n",
        "from sklearn.model_selection import GridSearchCV\n",
        "import numpy as np"
      ],
      "execution_count": null,
      "outputs": []
    },
    {
      "cell_type": "code",
      "metadata": {
        "id": "RBS6cUdwvCmu",
        "colab_type": "code",
        "colab": {
          "base_uri": "https://localhost:8080/",
          "height": 34
        },
        "outputId": "a7946bf9-ba40-4c56-d82e-729a9c0fbd8d"
      },
      "source": [
        "xgb_model = xgb.XGBClassifier()\n",
        "np.arange(10, 100, 10)\n",
        "\n"
      ],
      "execution_count": null,
      "outputs": [
        {
          "output_type": "execute_result",
          "data": {
            "text/plain": [
              "array([10, 20, 30, 40, 50, 60, 70, 80, 90])"
            ]
          },
          "metadata": {
            "tags": []
          },
          "execution_count": 29
        }
      ]
    },
    {
      "cell_type": "code",
      "metadata": {
        "id": "FyLQTFgdx61P",
        "colab_type": "code",
        "colab": {
          "base_uri": "https://localhost:8080/",
          "height": 336
        },
        "outputId": "b62a29bc-ef45-4e4d-959d-921995413350"
      },
      "source": [
        "searcher = GridSearchCV(xgb_model, \n",
        "                        param_grid = {'n_estimators': np.arange(10, 200, 10),\n",
        "                                      'max_depth': np.arange(3, 15),\n",
        "                                      'learning_rate': [0.05, 0.1, 0.2],\n",
        "                                      'min_child_weight': np.arange(10, 80, 20)\n",
        "                                     }\n",
        "                       , scoring = 'roc_auc', cv = 5, n_jobs = -1)\n",
        "searcher.fit(x_train.values, y_train)"
      ],
      "execution_count": null,
      "outputs": [
        {
          "output_type": "execute_result",
          "data": {
            "text/plain": [
              "GridSearchCV(cv=5, error_score=nan,\n",
              "             estimator=XGBClassifier(base_score=0.5, booster='gbtree',\n",
              "                                     colsample_bylevel=1, colsample_bynode=1,\n",
              "                                     colsample_bytree=1, gamma=0,\n",
              "                                     learning_rate=0.1, max_delta_step=0,\n",
              "                                     max_depth=3, min_child_weight=1,\n",
              "                                     missing=None, n_estimators=100, n_jobs=1,\n",
              "                                     nthread=None, objective='binary:logistic',\n",
              "                                     random_state=0, reg_alpha=0, reg_lambda=1,\n",
              "                                     scale_po...\n",
              "                                     subsample=1, verbosity=1),\n",
              "             iid='deprecated', n_jobs=-1,\n",
              "             param_grid={'learning_rate': [0.05, 0.1, 0.2],\n",
              "                         'max_depth': array([ 3,  4,  5,  6,  7,  8,  9, 10, 11, 12, 13, 14]),\n",
              "                         'min_child_weight': array([10, 30, 50, 70]),\n",
              "                         'n_estimators': array([ 10,  20,  30,  40,  50,  60,  70,  80,  90, 100, 110, 120, 130,\n",
              "       140, 150, 160, 170, 180, 190])},\n",
              "             pre_dispatch='2*n_jobs', refit=True, return_train_score=False,\n",
              "             scoring='roc_auc', verbose=0)"
            ]
          },
          "metadata": {
            "tags": []
          },
          "execution_count": 30
        }
      ]
    },
    {
      "cell_type": "code",
      "metadata": {
        "id": "7xKYt0-dvC2f",
        "colab_type": "code",
        "colab": {
          "base_uri": "https://localhost:8080/",
          "height": 84
        },
        "outputId": "f1b4773f-a37a-4081-9cba-8c41830884d7"
      },
      "source": [
        "\n",
        "searcher.best_params_\n"
      ],
      "execution_count": null,
      "outputs": [
        {
          "output_type": "execute_result",
          "data": {
            "text/plain": [
              "{'learning_rate': 0.1,\n",
              " 'max_depth': 6,\n",
              " 'min_child_weight': 10,\n",
              " 'n_estimators': 50}"
            ]
          },
          "metadata": {
            "tags": []
          },
          "execution_count": 31
        }
      ]
    },
    {
      "cell_type": "code",
      "metadata": {
        "id": "6ZxErYuevC_z",
        "colab_type": "code",
        "colab": {}
      },
      "source": [
        "from sklearn.metrics import roc_auc_score\n",
        "def gini_score(y_true, y_pred):\n",
        "    return -1 + 2 * roc_auc_score(y_true, y_pred)"
      ],
      "execution_count": null,
      "outputs": []
    },
    {
      "cell_type": "code",
      "metadata": {
        "id": "d6DMB-FKvCyn",
        "colab_type": "code",
        "colab": {
          "base_uri": "https://localhost:8080/",
          "height": 50
        },
        "outputId": "4a54a40a-dbfb-4691-f10a-24345e529617"
      },
      "source": [
        "print(gini_score(y_train, searcher.predict_proba(x_train.values)[:,1]))\n",
        "print(gini_score(y_test, searcher.predict_proba(x_test.values)[:,1]))"
      ],
      "execution_count": null,
      "outputs": [
        {
          "output_type": "stream",
          "text": [
            "0.803759537707442\n",
            "0.5447710184552288\n"
          ],
          "name": "stdout"
        }
      ]
    },
    {
      "cell_type": "code",
      "metadata": {
        "ExecuteTime": {
          "end_time": "2019-06-17T08:26:00.352418Z",
          "start_time": "2019-06-17T08:26:00.337981Z"
        },
        "id": "nZWbvKCu7lVo",
        "colab_type": "code",
        "colab": {
          "base_uri": "https://localhost:8080/",
          "height": 34
        },
        "outputId": "755e583b-8c29-492a-ac80-92d9d72c2b44"
      },
      "source": [
        "(roc_auc_score(y_train, searcher.predict_proba(x_train.values)[:,1]),\n",
        "roc_auc_score(y_test, searcher.predict_proba(x_test.values)[:,1]))"
      ],
      "execution_count": null,
      "outputs": [
        {
          "output_type": "execute_result",
          "data": {
            "text/plain": [
              "(0.901879768853721, 0.7723855092276144)"
            ]
          },
          "metadata": {
            "tags": []
          },
          "execution_count": 35
        }
      ]
    },
    {
      "cell_type": "code",
      "metadata": {
        "id": "hMBCS7f8mQP_",
        "colab_type": "code",
        "colab": {
          "base_uri": "https://localhost:8080/",
          "height": 50
        },
        "outputId": "bd624916-ba59-4b3d-bd6c-acd5957b057b"
      },
      "source": [
        "print(gini_score(y_train, searcher.predict_proba(x_train.values)[:,1]))\n",
        "print(gini_score(y_test, searcher.predict_proba(x_test.values)[:,1]))"
      ],
      "execution_count": null,
      "outputs": [
        {
          "output_type": "stream",
          "text": [
            "0.803759537707442\n",
            "0.5447710184552288\n"
          ],
          "name": "stdout"
        }
      ]
    }
  ]
}